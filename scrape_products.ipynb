{
  "nbformat": 4,
  "nbformat_minor": 0,
  "metadata": {
    "colab": {
      "provenance": [],
      "authorship_tag": "ABX9TyNpRTnF0XJEoT3aQd8LR4rU",
      "include_colab_link": true
    },
    "kernelspec": {
      "name": "python3",
      "display_name": "Python 3"
    },
    "language_info": {
      "name": "python"
    }
  },
  "cells": [
    {
      "cell_type": "markdown",
      "metadata": {
        "id": "view-in-github",
        "colab_type": "text"
      },
      "source": [
        "<a href=\"https://colab.research.google.com/github/mariamlaagrini/scrape-products/blob/main/scrape_products.ipynb\" target=\"_parent\"><img src=\"https://colab.research.google.com/assets/colab-badge.svg\" alt=\"Open In Colab\"/></a>"
      ]
    },
    {
      "cell_type": "code",
      "source": [
        "import json\n",
        "import gspread\n",
        "import pandas as pd\n",
        "from bs4 import BeautifulSoup\n",
        "from oauth2client.service_account import ServiceAccountCredentials\n",
        "\n",
        "# 1️⃣ Read and Parse the HTML File\n",
        "with open(\"NATRUE.html\", \"r\", encoding=\"utf-8\") as file:\n",
        "    soup = BeautifulSoup(file, \"html.parser\")\n",
        "\n",
        "# 2️⃣ Extract Product Details\n",
        "products = []\n",
        "\n",
        "for item in soup.find_all(\"article\", class_=\"product-list__item\"):\n",
        "    name = item.find(\"div\", class_=\"product-list__item__name\")\n",
        "    brand = item.find(\"div\", class_=\"product-list__item__brand\")\n",
        "    image = item.find(\"div\", class_=\"product-list__item__image\")\n",
        "\n",
        "    product_data = {\n",
        "        \"Name\": name.get_text(strip=True) if name else \"N/A\",\n",
        "        \"Brand\": brand.get_text(strip=True) if brand else \"N/A\",\n",
        "        \"Image_URL\": image.find(\"img\")[\"src\"] if image and image.find(\"img\") else \"N/A\"\n",
        "    }\n",
        "    products.append(product_data)\n",
        "\n",
        "# 3️⃣ Save Data as JSON\n",
        "with open(\"products.json\", \"w\", encoding=\"utf-8\") as json_file:\n",
        "    json.dump(products, json_file, indent=4, ensure_ascii=False)\n",
        "\n",
        "print(\"✅ Data saved to products.json\")\n",
        "\n",
        "# 4️⃣ Upload Data to Google Sheets\n",
        "def upload_to_google_sheets(data, credentials_file, sheet_name):\n",
        "    # Define API scope\n",
        "    scope = [\"https://spreadsheets.google.com/feeds\", \"https://www.googleapis.com/auth/drive\"]\n",
        "\n",
        "    # Authenticate with Google Sheets\n",
        "    creds = ServiceAccountCredentials.from_json_keyfile_name(credentials_file, scope)\n",
        "    client = gspread.authorize(creds)\n",
        "\n",
        "    # Open the spreadsheet (Create if not exists)\n",
        "    try:\n",
        "        sheet = client.open(sheet_name).sheet1\n",
        "    except gspread.exceptions.SpreadsheetNotFound:\n",
        "        print(f\"⚠️ Spreadsheet '{sheet_name}' not found. Please create it first.\")\n",
        "        return\n",
        "\n",
        "    # Convert data to DataFrame\n",
        "    df = pd.DataFrame(data)\n",
        "\n",
        "    # Clear existing data\n",
        "    sheet.clear()\n",
        "\n",
        "    # Upload data (including headers)\n",
        "    sheet.update([df.columns.values.tolist()] + df.values.tolist())\n",
        "    print(f\"✅ Data uploaded successfully to '{sheet_name}' on Google Sheets.\")\n",
        "\n",
        "# 5️⃣ Provide Credentials and Sheet Name\n",
        "CREDENTIALS_FILE = \"credentials.json\"  # Replace with your JSON file path\n",
        "SHEET_NAME = \"products\"\n",
        "\n",
        "upload_to_google_sheets(products, CREDENTIALS_FILE, SHEET_NAME)\n"
      ],
      "metadata": {
        "colab": {
          "base_uri": "https://localhost:8080/"
        },
        "id": "Cyr-_-h0Pect",
        "outputId": "a224067c-0e36-4143-962c-9143860424fc"
      },
      "execution_count": 10,
      "outputs": [
        {
          "output_type": "stream",
          "name": "stdout",
          "text": [
            "✅ Data saved to products.json\n",
            "✅ Data uploaded successfully to 'products' on Google Sheets.\n"
          ]
        }
      ]
    }
  ]
}