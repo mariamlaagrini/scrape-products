{
  "nbformat": 4,
  "nbformat_minor": 0,
  "metadata": {
    "colab": {
      "provenance": [],
      "authorship_tag": "ABX9TyORfGGJU/TAXznmQ8wxtaQK",
      "include_colab_link": true
    },
    "kernelspec": {
      "name": "python3",
      "display_name": "Python 3"
    },
    "language_info": {
      "name": "python"
    }
  },
  "cells": [
    {
      "cell_type": "markdown",
      "metadata": {
        "id": "view-in-github",
        "colab_type": "text"
      },
      "source": [
        "<a href=\"https://colab.research.google.com/github/mariamlaagrini/scrape-products/blob/main/scrape_products.ipynb\" target=\"_parent\"><img src=\"https://colab.research.google.com/assets/colab-badge.svg\" alt=\"Open In Colab\"/></a>"
      ]
    },
    {
      "cell_type": "code",
      "source": [
        "import json\n",
        "import gspread\n",
        "import pandas as pd\n",
        "from bs4 import BeautifulSoup\n",
        "from oauth2client.service_account import ServiceAccountCredentials\n",
        "\n",
        "# 1️⃣ Read and Parse the HTML File\n",
        "with open(\"NATRUE.html\", \"r\", encoding=\"utf-8\") as file:\n",
        "    soup = BeautifulSoup(file, \"html.parser\")\n",
        "\n",
        "# 2️⃣ Extract Product Details\n",
        "products = []\n",
        "\n",
        "for item in soup.find_all(\"article\", class_=\"product-list__item\"):\n",
        "    name = item.find(\"div\", class_=\"product-list__item__name\")\n",
        "    brand = item.find(\"div\", class_=\"product-list__item__brand\")\n",
        "    image = item.find(\"div\", class_=\"product-list__item__image\")\n",
        "\n",
        "    product_data = {\n",
        "        \"Name\": name.get_text(strip=True) if name else \"N/A\",\n",
        "        \"Brand\": brand.get_text(strip=True) if brand else \"N/A\",\n",
        "        \"Image_URL\": image.find(\"img\")[\"src\"] if image and image.find(\"img\") else \"N/A\"\n",
        "    }\n",
        "    products.append(product_data)\n",
        "\n",
        "# 3️⃣ Save Data as JSON\n",
        "with open(\"products.json\", \"w\", encoding=\"utf-8\") as json_file:\n",
        "    json.dump(products, json_file, indent=4, ensure_ascii=False)\n",
        "\n",
        "print(\"✅ Data saved to products.json\")\n",
        "\n",
        "# 4️⃣ Upload Data to Google Sheets\n",
        "def upload_to_google_sheets(data, credentials_file, sheet_name):\n",
        "    # Define API scope\n",
        "    scope = [\"https://spreadsheets.google.com/feeds\", \"https://www.googleapis.com/auth/drive\"]\n",
        "\n",
        "    # Authenticate with Google Sheets\n",
        "    creds = ServiceAccountCredentials.from_json_keyfile_name(credentials_file, scope)\n",
        "    client = gspread.authorize(creds)\n",
        "\n",
        "    # Open the spreadsheet (Create if not exists)\n",
        "    try:\n",
        "        sheet = client.open(sheet_name).sheet1\n",
        "    except gspread.exceptions.SpreadsheetNotFound:\n",
        "        print(f\"⚠️ Spreadsheet '{sheet_name}' not found. Please create it first.\")\n",
        "        return\n",
        "\n",
        "    # Convert data to DataFrame\n",
        "    df = pd.DataFrame(data)\n",
        "\n",
        "    # Clear existing data\n",
        "    sheet.clear()\n",
        "\n",
        "    # Upload data (including headers)\n",
        "    sheet.update([df.columns.values.tolist()] + df.values.tolist())\n",
        "    print(f\"✅ Data uploaded successfully to '{sheet_name}' on Google Sheets.\")\n",
        "\n",
        "# 5️⃣ Provide Credentials and Sheet Name\n",
        "CREDENTIALS_FILE = \"credentials.json\"  # Replace with your JSON file path\n",
        "SHEET_NAME = \"products\"\n",
        "\n",
        "upload_to_google_sheets(products, CREDENTIALS_FILE, SHEET_NAME)\n"
      ],
      "metadata": {
        "colab": {
          "base_uri": "https://localhost:8080/"
        },
        "id": "Cyr-_-h0Pect",
        "outputId": "ece83d2c-c632-4fe2-d72a-33163703c90d"
      },
      "execution_count": 3,
      "outputs": [
        {
          "output_type": "stream",
          "name": "stdout",
          "text": [
            "✅ Data saved to products.json\n",
            "✅ Data uploaded successfully to 'products' on Google Sheets.\n"
          ]
        }
      ]
    },
    {
      "cell_type": "code",
      "source": [
        "with open(\"NATRUE brand.html\", \"r\", encoding=\"utf-8\") as file:\n",
        "    soup = BeautifulSoup(file, \"html.parser\")\n",
        "\n",
        "\n",
        "brands = []\n",
        "\n",
        "for item in soup.find_all(\"article\", class_=\"brand-list__item\"):\n",
        "    name = item.find(\"div\", class_=\"brand-list__item__name\")\n",
        "    image = item.find(\"div\", class_=\"brand-list__item__image\")\n",
        "\n",
        "    brand_data = {\n",
        "        \"Name\": name.get_text(strip=True) if name else \"N/A\",\n",
        "        \"Image_URL\": image.find(\"img\")[\"src\"] if image and image.find(\"img\") else \"N/A\"\n",
        "    }\n",
        "    brands.append(brand_data)\n",
        "\n",
        "with open(\"brand.json\", \"w\", encoding=\"utf-8\") as json_file:\n",
        "    json.dump(brands, json_file, indent=4, ensure_ascii=False)\n",
        "\n",
        "print(\"✅ Data saved to brand.json\")\n",
        "\n",
        "def upload_to_google_sheets(data, credentials_file, sheet_name):\n",
        "    # Define API scope\n",
        "    scope = [\"https://spreadsheets.google.com/feeds\", \"https://www.googleapis.com/auth/drive\"]\n",
        "\n",
        "    # Authenticate with Google Sheets\n",
        "    creds = ServiceAccountCredentials.from_json_keyfile_name(credentials_file, scope)\n",
        "    client = gspread.authorize(creds)\n",
        "\n",
        "    # Open the spreadsheet (Create if not exists)\n",
        "    try:\n",
        "        sheet = client.open(sheet_name).sheet1\n",
        "    except gspread.exceptions.SpreadsheetNotFound:\n",
        "        print(f\"⚠️ Spreadsheet '{sheet_name}' not found. Please create it first.\")\n",
        "        return\n",
        "\n",
        "    # Convert data to DataFrame\n",
        "    df = pd.DataFrame(data)\n",
        "\n",
        "    # Clear existing data\n",
        "    sheet.clear()\n",
        "\n",
        "    # Upload data (including headers)\n",
        "    sheet.update([df.columns.values.tolist()] + df.values.tolist())\n",
        "    print(f\"✅ Data uploaded successfully to '{sheet_name}' on Google Sheets.\")\n",
        "\n",
        "# 5️⃣ Provide Credentials and Sheet Name\n",
        "CREDENTIALS_FILE = \"credentials.json\"  # Replace with your JSON file path\n",
        "SHEET_NAME = \"brand\"\n",
        "\n",
        "upload_to_google_sheets(brands, CREDENTIALS_FILE, SHEET_NAME)"
      ],
      "metadata": {
        "colab": {
          "base_uri": "https://localhost:8080/"
        },
        "id": "66EadZuDxI_0",
        "outputId": "4b875dda-5793-46bb-846e-e67ad085b733"
      },
      "execution_count": 10,
      "outputs": [
        {
          "output_type": "stream",
          "name": "stdout",
          "text": [
            "✅ Data saved to brand.json\n",
            "✅ Data uploaded successfully to 'brand' on Google Sheets.\n"
          ]
        }
      ]
    },
    {
      "cell_type": "code",
      "source": [
        "!pip install pandas gspread oauth2client"
      ],
      "metadata": {
        "colab": {
          "base_uri": "https://localhost:8080/"
        },
        "id": "H2qk_fkquXXO",
        "outputId": "7f7ab254-9000-4566-ea91-aa9b722e9ec9"
      },
      "execution_count": 7,
      "outputs": [
        {
          "output_type": "stream",
          "name": "stdout",
          "text": [
            "Requirement already satisfied: pandas in /usr/local/lib/python3.11/dist-packages (2.2.2)\n",
            "Requirement already satisfied: gspread in /usr/local/lib/python3.11/dist-packages (6.1.4)\n",
            "Requirement already satisfied: oauth2client in /usr/local/lib/python3.11/dist-packages (4.1.3)\n",
            "Requirement already satisfied: numpy>=1.23.2 in /usr/local/lib/python3.11/dist-packages (from pandas) (1.26.4)\n",
            "Requirement already satisfied: python-dateutil>=2.8.2 in /usr/local/lib/python3.11/dist-packages (from pandas) (2.8.2)\n",
            "Requirement already satisfied: pytz>=2020.1 in /usr/local/lib/python3.11/dist-packages (from pandas) (2025.1)\n",
            "Requirement already satisfied: tzdata>=2022.7 in /usr/local/lib/python3.11/dist-packages (from pandas) (2025.1)\n",
            "Requirement already satisfied: google-auth>=1.12.0 in /usr/local/lib/python3.11/dist-packages (from gspread) (2.38.0)\n",
            "Requirement already satisfied: google-auth-oauthlib>=0.4.1 in /usr/local/lib/python3.11/dist-packages (from gspread) (1.2.1)\n",
            "Requirement already satisfied: httplib2>=0.9.1 in /usr/local/lib/python3.11/dist-packages (from oauth2client) (0.22.0)\n",
            "Requirement already satisfied: pyasn1>=0.1.7 in /usr/local/lib/python3.11/dist-packages (from oauth2client) (0.6.1)\n",
            "Requirement already satisfied: pyasn1-modules>=0.0.5 in /usr/local/lib/python3.11/dist-packages (from oauth2client) (0.4.1)\n",
            "Requirement already satisfied: rsa>=3.1.4 in /usr/local/lib/python3.11/dist-packages (from oauth2client) (4.9)\n",
            "Requirement already satisfied: six>=1.6.1 in /usr/local/lib/python3.11/dist-packages (from oauth2client) (1.17.0)\n",
            "Requirement already satisfied: cachetools<6.0,>=2.0.0 in /usr/local/lib/python3.11/dist-packages (from google-auth>=1.12.0->gspread) (5.5.2)\n",
            "Requirement already satisfied: requests-oauthlib>=0.7.0 in /usr/local/lib/python3.11/dist-packages (from google-auth-oauthlib>=0.4.1->gspread) (2.0.0)\n",
            "Requirement already satisfied: pyparsing!=3.0.0,!=3.0.1,!=3.0.2,!=3.0.3,<4,>=2.4.2 in /usr/local/lib/python3.11/dist-packages (from httplib2>=0.9.1->oauth2client) (3.2.1)\n",
            "Requirement already satisfied: oauthlib>=3.0.0 in /usr/local/lib/python3.11/dist-packages (from requests-oauthlib>=0.7.0->google-auth-oauthlib>=0.4.1->gspread) (3.2.2)\n",
            "Requirement already satisfied: requests>=2.0.0 in /usr/local/lib/python3.11/dist-packages (from requests-oauthlib>=0.7.0->google-auth-oauthlib>=0.4.1->gspread) (2.32.3)\n",
            "Requirement already satisfied: charset-normalizer<4,>=2 in /usr/local/lib/python3.11/dist-packages (from requests>=2.0.0->requests-oauthlib>=0.7.0->google-auth-oauthlib>=0.4.1->gspread) (3.4.1)\n",
            "Requirement already satisfied: idna<4,>=2.5 in /usr/local/lib/python3.11/dist-packages (from requests>=2.0.0->requests-oauthlib>=0.7.0->google-auth-oauthlib>=0.4.1->gspread) (3.10)\n",
            "Requirement already satisfied: urllib3<3,>=1.21.1 in /usr/local/lib/python3.11/dist-packages (from requests>=2.0.0->requests-oauthlib>=0.7.0->google-auth-oauthlib>=0.4.1->gspread) (2.3.0)\n",
            "Requirement already satisfied: certifi>=2017.4.17 in /usr/local/lib/python3.11/dist-packages (from requests>=2.0.0->requests-oauthlib>=0.7.0->google-auth-oauthlib>=0.4.1->gspread) (2025.1.31)\n"
          ]
        }
      ]
    },
    {
      "cell_type": "code",
      "source": [
        "import pandas as pd\n",
        "import json\n",
        "import gspread\n",
        "from oauth2client.service_account import ServiceAccountCredentials\n",
        "\n",
        "# Step 1: Load the Excel file\n",
        "excel_file = \"raw_materials.xlsx\"  # Change to your actual file path\n",
        "df = pd.read_excel(excel_file)\n",
        "\n",
        "# Step 2: Convert to JSON and save locally\n",
        "json_file = \"raw_materials.json\"\n",
        "data_json = df.to_dict(orient=\"records\")\n",
        "\n",
        "with open(json_file, \"w\", encoding=\"utf-8\") as f:\n",
        "    json.dump(data_json, f, indent=4, ensure_ascii=False)\n",
        "\n",
        "print(f\"JSON saved successfully as {json_file}\")\n",
        "\n",
        "# Step 3: Upload to Google Sheets\n",
        "# Google Sheets Authentication\n",
        "scope = [\"https://spreadsheets.google.com/feeds\", \"https://www.googleapis.com/auth/drive\"]\n",
        "creds = ServiceAccountCredentials.from_json_keyfile_name(\"credentials.json\", scope)\n",
        "client = gspread.authorize(creds)\n",
        "\n",
        "sheet = client.open(\"raw materials\").sheet1\n",
        "\n",
        "# Upload data to Google Sheets\n",
        "sheet.clear()  # Clear existing data\n",
        "data_to_upload = df.values.tolist()\n",
        "for row_index, row in enumerate(data_to_upload):\n",
        "    for col_index, value in enumerate(row):\n",
        "        if isinstance(value, float) and (float('inf') == value or float('-inf') == value or pd.isna(value)):\n",
        "            data_to_upload[row_index][col_index] = str(value)  # Replace inf, -inf, and NaN with strings\n",
        "\n",
        "sheet.append_rows(data_to_upload)\n",
        "print(\"Data successfully uploaded to Google Sheets!\")\n"
      ],
      "metadata": {
        "colab": {
          "base_uri": "https://localhost:8080/"
        },
        "id": "6TOaZFeAtehW",
        "outputId": "25a0f54a-e3ed-4400-9472-bddbe2c9f9a8"
      },
      "execution_count": 9,
      "outputs": [
        {
          "output_type": "stream",
          "name": "stdout",
          "text": [
            "JSON saved successfully as raw_materials.json\n",
            "Data successfully uploaded to Google Sheets!\n"
          ]
        }
      ]
    }
  ]
}